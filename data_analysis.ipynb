{
 "cells": [
  {
   "cell_type": "code",
   "execution_count": 1,
   "id": "copyrighted-missile",
   "metadata": {},
   "outputs": [
    {
     "ename": "ModuleNotFoundError",
     "evalue": "No module named 'seaborn'",
     "output_type": "error",
     "traceback": [
      "\u001b[0;31m---------------------------------------------------------------------------\u001b[0m",
      "\u001b[0;31mModuleNotFoundError\u001b[0m                       Traceback (most recent call last)",
      "\u001b[0;32m<ipython-input-1-936398e17ff9>\u001b[0m in \u001b[0;36m<module>\u001b[0;34m\u001b[0m\n\u001b[1;32m      4\u001b[0m \u001b[0;32mimport\u001b[0m \u001b[0mmatplotlib\u001b[0m\u001b[0;34m.\u001b[0m\u001b[0mpyplot\u001b[0m \u001b[0;32mas\u001b[0m \u001b[0mplt\u001b[0m\u001b[0;34m\u001b[0m\u001b[0;34m\u001b[0m\u001b[0m\n\u001b[1;32m      5\u001b[0m \u001b[0;32mfrom\u001b[0m \u001b[0mscipy\u001b[0m \u001b[0;32mimport\u001b[0m \u001b[0msignal\u001b[0m\u001b[0;34m,\u001b[0m \u001b[0minterpolate\u001b[0m\u001b[0;34m\u001b[0m\u001b[0;34m\u001b[0m\u001b[0m\n\u001b[0;32m----> 6\u001b[0;31m \u001b[0;32mimport\u001b[0m \u001b[0mseaborn\u001b[0m \u001b[0;32mas\u001b[0m \u001b[0msns\u001b[0m\u001b[0;34m\u001b[0m\u001b[0;34m\u001b[0m\u001b[0m\n\u001b[0m\u001b[1;32m      7\u001b[0m \u001b[0;32mfrom\u001b[0m \u001b[0msklearn\u001b[0m\u001b[0;34m.\u001b[0m\u001b[0mmetrics\u001b[0m \u001b[0;32mimport\u001b[0m \u001b[0mr2_score\u001b[0m\u001b[0;34m,\u001b[0m \u001b[0mmean_squared_error\u001b[0m\u001b[0;34m\u001b[0m\u001b[0;34m\u001b[0m\u001b[0m\n\u001b[1;32m      8\u001b[0m \u001b[0;34m\u001b[0m\u001b[0m\n",
      "\u001b[0;31mModuleNotFoundError\u001b[0m: No module named 'seaborn'"
     ]
    }
   ],
   "source": [
    "import math\n",
    "import numpy as np\n",
    "import pandas as pd\n",
    "import matplotlib.pyplot as plt\n",
    "from scipy import signal, interpolate\n",
    "import seaborn as sns\n",
    "from sklearn.metrics import r2_score, mean_squared_error\n",
    "\n",
    "from data_loader import load_pickle, unpack_data\n",
    "sns.set()\n",
    "\n",
    "N_SUBJECTS = 3"
   ]
  },
  {
   "cell_type": "code",
   "execution_count": null,
   "id": "hawaiian-chassis",
   "metadata": {},
   "outputs": [],
   "source": [
    "datasets = []\n",
    "for i in range(1, N_SUBJECTS + 1):\n",
    "    datasets.append(load_pickle(i))"
   ]
  },
  {
   "cell_type": "code",
   "execution_count": null,
   "id": "exempt-clearance",
   "metadata": {},
   "outputs": [],
   "source": [
    "def compute_distances(Sxx, f_acc, hr, default_val):\n",
    "    distances = []\n",
    "\n",
    "    for t in range(Sxx.shape[1]):\n",
    "        \n",
    "        # check whether there is a relevant accelerometer frequency at time t\n",
    "        if sum(Sxx[:, t]) == 0:\n",
    "            distances.append(default_val)\n",
    "            continue\n",
    "        \n",
    "        # find hr_index that corresponds to a frequency in f_acc that is closest to hr[t]\n",
    "        hr_index = np.searchsorted(f_acc, hr[t])\n",
    "        \n",
    "        # find the distances of all relevant accelerometer freqs to the heart rate freq at time t\n",
    "        idx_distances_at_t = abs(np.where(Sxx[:, t] == 1)[0] - hr_index)\n",
    "        distances_at_t = idx_distances_at_t * (f_acc[1] - f_acc[0])\n",
    "        \n",
    "        # save the minimum distance at time t\n",
    "        distances.append(min(min(distances_at_t), 1))\n",
    "\n",
    "    return np.array(distances)"
   ]
  },
  {
   "cell_type": "code",
   "execution_count": null,
   "id": "suburban-recipe",
   "metadata": {
    "scrolled": false
   },
   "outputs": [],
   "source": [
    "acc_threshold_percentile = 95\n",
    "distances_default_value = 1\n",
    "\n",
    "fs_ppg = 64\n",
    "fs_acc = 32\n",
    "nperseg_ppg = 1000\n",
    "noverlap = None\n",
    "\n",
    "distances_list = []\n",
    "activity_list = []\n",
    "\n",
    "for dataset in datasets:\n",
    "\n",
    "    ppg, acc, hr, activity, _= unpack_data(dataset)\n",
    "\n",
    "    hr_timestamps = np.arange(0, len(hr) * 2, 2)\n",
    "    hr_interpolation = interpolate.interp1d(hr_timestamps, hr)\n",
    "    \n",
    "    ### create spectrograms\n",
    "    f_ppg, t_ppg, Sxx_ppg = signal.spectrogram(ppg, fs_ppg, nperseg=nperseg_ppg, noverlap=noverlap)\n",
    "    f_acc, t_acc, Sxx_acc = signal.spectrogram(acc, fs_acc, nperseg=nperseg_ppg, noverlap=noverlap)\n",
    "    \n",
    "    ### keep only frequencies of interest\n",
    "    fmin = 0.5 # Hz\n",
    "    fmax = 4 # Hz\n",
    "    freq_slice_ppg = np.where((f_ppg >= fmin) & (f_ppg <= fmax))\n",
    "    freq_slice_acc = np.where((f_acc >= fmin) & (f_acc <= fmax))\n",
    "    f_ppg = f_ppg[freq_slice_ppg]\n",
    "    f_acc = f_acc[freq_slice_acc]\n",
    "    Sxx_ppg = Sxx_ppg[freq_slice_ppg,:][0]\n",
    "    Sxx_acc = Sxx_acc[freq_slice_acc,:][0]\n",
    "    \n",
    "    ### clip spectrograms\n",
    "    Sxx_acc_clipped = np.clip(Sxx_acc, 0, np.percentile(Sxx_acc.flatten(), 99))\n",
    "    Sxx_ppg_clipped = np.clip(Sxx_ppg, 0, np.percentile(Sxx_ppg.flatten(), 99))\n",
    "\n",
    "    ### plot ppg spectrogram\n",
    "    plt.figure(figsize=(15, 9))\n",
    "    plt.pcolormesh(t_ppg, f_ppg, Sxx_ppg_clipped, shading='flat')\n",
    "    plt.title('PPG measurement spectrogram')\n",
    "    plt.ylabel('Frequency [Hz]')\n",
    "    plt.xlabel('Time [s]')\n",
    "    \n",
    "    ### plot heart rate\n",
    "    ppg_estimate = f_ppg[np.argmax(Sxx_ppg, axis=0)]\n",
    "    #plt.plot(hr_timestamps, hr, 'r--', label='heart rate')\n",
    "    #plt.plot(t_ppg, ppg_estimate, 'g--', label='ppg heart rate estimate')\n",
    "    plt.legend()\n",
    "    plt.show()\n",
    "    \n",
    "    ### plot acc spectrogram\n",
    "    plt.figure(figsize=(15, 9))\n",
    "    #plt.pcolormesh(t_acc, f_acc, Sxx_acc_clipped, shading='flat')\n",
    "    Sxx_acc_above_threshold = (Sxx_acc > np.percentile(Sxx_acc.flatten(), acc_threshold_percentile)).astype(int)\n",
    "    plt.pcolormesh(t_acc, f_acc, Sxx_acc_above_threshold, shading='flat')\n",
    "    plt.title('ACC measurement spectrogram')\n",
    "    plt.plot(hr_timestamps, hr, 'r--', label='heart rate')\n",
    "    plt.ylabel('Frequency [Hz]')\n",
    "    plt.xlabel('Time [s]')\n",
    "    \n",
    "    ### plot distance metric\n",
    "    hr_at_acc_timestamps = hr_interpolation(t_acc)\n",
    "    distances = compute_distances(Sxx_acc_above_threshold, f_acc, hr_at_acc_timestamps, distances_default_value)\n",
    "    plt.plot(t_acc, distances, label='distance to accelerometer disturbance')\n",
    "    plt.legend()\n",
    "    \n",
    "    ### save relevant data\n",
    "    activity_subsample = activity[(t_acc * 4).astype(int)]\n",
    "    distances_list.append(distances)\n",
    "    activity_list.append(activity_subsample)\n",
    "    \n",
    "    print('RMSE:', math.sqrt(mean_squared_error(hr_interpolation(t_ppg), ppg_estimate)))\n"
   ]
  },
  {
   "cell_type": "code",
   "execution_count": null,
   "id": "aware-dairy",
   "metadata": {},
   "outputs": [],
   "source": [
    "distances_combined = []\n",
    "activity_combined = []\n",
    "subject_combined = []\n",
    "\n",
    "for i in range(len(distances_list)):\n",
    "    \n",
    "    distance = distances_list[i]\n",
    "    activity = activity_list[i]\n",
    "    \n",
    "    distances_combined = np.append(distances_combined, distance)\n",
    "    activity_combined = np.append(activity_combined, activity)\n",
    "    subject_combined = np.append(subject_combined, [i + 1] * len(distance))\n",
    "    \n",
    "    "
   ]
  },
  {
   "cell_type": "code",
   "execution_count": null,
   "id": "placed-action",
   "metadata": {},
   "outputs": [],
   "source": [
    "# analyze distances across activities\n",
    "distance_means = []\n",
    "distance_stds = []\n",
    "for i in range(1, 9):\n",
    "    relevant_distances = distances_combined[activity_combined == i]\n",
    "    distance_means.append(np.nanmean(relevant_distances))\n",
    "    distance_stds.append(np.nanvar(relevant_distances))\n",
    "plt.bar(range(1, 9), distance_means, yerr=distance_stds, capsize=5)\n",
    "plt.ylabel('mean distance [Hz]')\n",
    "plt.xlabel('activity index')\n",
    "plt.title('Distance between true HR and ACC signals acrosss activities')\n",
    "plt.show()"
   ]
  },
  {
   "cell_type": "code",
   "execution_count": null,
   "id": "opening-hammer",
   "metadata": {},
   "outputs": [],
   "source": [
    "# analyze distances across subjects\n",
    "distance_means = []\n",
    "distance_stds = []\n",
    "for i in range(1, N_SUBJECTS + 1):\n",
    "    relevant_distances = distances_combined[subject_combined == i]\n",
    "    distance_means.append(np.nanmean(relevant_distances))\n",
    "    distance_stds.append(np.nanvar(relevant_distances))\n",
    "plt.bar(range(1, N_SUBJECTS + 1), distance_means, yerr=distance_stds, capsize=5)\n",
    "plt.ylabel('mean distance')\n",
    "plt.xlabel('subject index')\n",
    "plt.title('Distance between true HR and ACC signals acrosss subjects')\n",
    "plt.show()"
   ]
  },
  {
   "cell_type": "code",
   "execution_count": null,
   "id": "3a49afb5",
   "metadata": {},
   "outputs": [],
   "source": []
  }
 ],
 "metadata": {
  "kernelspec": {
   "display_name": "Python 3",
   "language": "python",
   "name": "python3"
  },
  "language_info": {
   "codemirror_mode": {
    "name": "ipython",
    "version": 3
   },
   "file_extension": ".py",
   "mimetype": "text/x-python",
   "name": "python",
   "nbconvert_exporter": "python",
   "pygments_lexer": "ipython3",
   "version": "3.8.2"
  }
 },
 "nbformat": 4,
 "nbformat_minor": 5
}
